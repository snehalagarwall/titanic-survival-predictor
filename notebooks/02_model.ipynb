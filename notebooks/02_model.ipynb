{
 "cells": [
  {
   "cell_type": "code",
   "execution_count": 8,
   "id": "aff7961f",
   "metadata": {},
   "outputs": [
    {
     "name": "stdout",
     "output_type": "stream",
     "text": [
      "0.7921348314606742\n"
     ]
    }
   ],
   "source": [
    "from sklearn.linear_model import LogisticRegression\n",
    "from sklearn.metrics import accuracy_score\n",
    "import pandas as pd\n",
    "\n",
    "df=pd.read_csv('../data/train.csv')\n",
    "x_train=df[['Pclass','Sex','Age','Fare','FamilySize']]\n",
    "y_train=df['Survived']\n",
    "\n",
    "df2=pd.read_csv('../data/train.csv')\n",
    "x_test=df2[['Pclass','Sex','Age','Fare','FamilySize']]\n",
    "y_test=df2['Survived']\n",
    "\n",
    "x_train=pd.get_dummies(x_train,columns=['Sex'],drop_first=True)\n",
    "x_test=pd.get_dummies(x_test,columns=['Sex'],drop_first=True)\n",
    "\n",
    "model=LogisticRegression(max_iter=1000)\n",
    "model.fit(x_train,y_train)\n",
    "\n",
    "pred=model.predict(x_test)\n",
    "accuracy=accuracy_score(y_test,pred)\n",
    "\n",
    "print(accuracy)\n",
    "\n",
    "with open('../output/metrics.txt','w') as g:\n",
    "    g.write(f'Accuracy:{accuracy:.4f}')"
   ]
  }
 ],
 "metadata": {
  "kernelspec": {
   "display_name": ".venv",
   "language": "python",
   "name": "python3"
  },
  "language_info": {
   "codemirror_mode": {
    "name": "ipython",
    "version": 3
   },
   "file_extension": ".py",
   "mimetype": "text/x-python",
   "name": "python",
   "nbconvert_exporter": "python",
   "pygments_lexer": "ipython3",
   "version": "3.12.4"
  }
 },
 "nbformat": 4,
 "nbformat_minor": 5
}
